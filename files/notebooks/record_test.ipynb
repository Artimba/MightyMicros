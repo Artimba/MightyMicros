{
 "cells": [
  {
   "cell_type": "code",
   "execution_count": 27,
   "metadata": {},
   "outputs": [],
   "source": [
    "import cv2\n",
    "\n",
    "camera = cv2.VideoCapture('/home/sky/MightyMicros/data/20231017_120545.mp4')\n",
    "# writer = cv2.VideoWriter('/home/sky/MightyMicros/output.mp4', cv2.VideoWriter_fourcc(*'mp4v'), 30, (640, 480))\n",
    "writer = cv2.VideoWriter('/home/sky/MightyMicros/src/recordings/output.mp4', cv2.VideoWriter_fourcc(*'mp4v'), 30, (640, 480))\n"
   ]
  },
  {
   "cell_type": "code",
   "execution_count": null,
   "metadata": {},
   "outputs": [],
   "source": []
  },
  {
   "cell_type": "code",
   "execution_count": 28,
   "metadata": {},
   "outputs": [],
   "source": [
    "while camera.isOpened():\n",
    "    ret, frame = camera.read()\n",
    "    if ret:\n",
    "        frame = cv2.resize(frame, (640, 480))\n",
    "        writer.write(frame)\n",
    "    else:\n",
    "        writer.release()\n",
    "        break\n",
    "\n",
    "writer.release()\n"
   ]
  }
 ],
 "metadata": {
  "kernelspec": {
   "display_name": "mighty",
   "language": "python",
   "name": "python3"
  },
  "language_info": {
   "codemirror_mode": {
    "name": "ipython",
    "version": 3
   },
   "file_extension": ".py",
   "mimetype": "text/x-python",
   "name": "python",
   "nbconvert_exporter": "python",
   "pygments_lexer": "ipython3",
   "version": "3.10.9"
  }
 },
 "nbformat": 4,
 "nbformat_minor": 2
}
